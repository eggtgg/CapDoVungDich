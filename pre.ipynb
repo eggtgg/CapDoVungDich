{
 "cells": [
  {
   "cell_type": "code",
   "execution_count": 184,
   "metadata": {},
   "outputs": [],
   "source": [
    "import pandas as pd\n",
    "import numpy as np\n",
    "from collections import Counter"
   ]
  },
  {
   "cell_type": "code",
   "execution_count": 138,
   "metadata": {},
   "outputs": [],
   "source": [
    "file_names = [\"ban_mau_12_11_21.csv\",\n",
    "             \"ban_mau_12_13_21.csv\",\n",
    "             \"ban_mau_12_14_21.csv\",\n",
    "             \"ban_mau_12_15_21.csv\",\n",
    "             \"ban_mau_12_17_21.csv\",\n",
    "             \"ban_mau_12_19_21.csv\",\n",
    "             \"ban_mau_12_20_21.csv\",\n",
    "             \"ban_mau_12_21_21.csv\",\n",
    "             \"ban_mau_12_22_21.csv\",\n",
    "             \"ban_mau_12_23_21.csv\"]"
   ]
  },
  {
   "cell_type": "code",
   "execution_count": 139,
   "metadata": {},
   "outputs": [],
   "source": [
    "dfs = []\n",
    "for name in file_names:\n",
    "    dfs.append(pd.read_csv(name))"
   ]
  },
  {
   "cell_type": "code",
   "execution_count": 140,
   "metadata": {},
   "outputs": [],
   "source": [
    "hls = []\n",
    "for df in dfs:\n",
    "    hls.append(df[df['xa'] == 'Phường Hương Long'].copy().sort_values(by=['thon']))"
   ]
  },
  {
   "cell_type": "code",
   "execution_count": 141,
   "metadata": {},
   "outputs": [],
   "source": [
    "cap_hls = []\n",
    "for hl in hls:\n",
    "    cap_hls.append(hl['cap'].reset_index(drop = True))"
   ]
  },
  {
   "cell_type": "code",
   "execution_count": 145,
   "metadata": {},
   "outputs": [],
   "source": [
    "to = {}\n",
    "for i in range(8):\n",
    "    to[i+1] = []\n",
    "for cap_hl in cap_hls:\n",
    "    for i, cap_to in enumerate(cap_hl):\n",
    "        to[i+1].append(cap_to)"
   ]
  },
  {
   "cell_type": "code",
   "execution_count": 146,
   "metadata": {},
   "outputs": [
    {
     "data": {
      "text/plain": [
       "{1: [2, 2, 2, 2, 2, 2, 2, 2, 2, 2],\n",
       " 2: [3, 3, 3, 2, 2, 2, 3, 3, 3, 3],\n",
       " 3: [3, 2, 2, 2, 2, 2, 1, 1, 1, 2],\n",
       " 4: [3, 3, 3, 3, 3, 3, 3, 3, 3, 3],\n",
       " 5: [3, 3, 3, 2, 2, 2, 2, 2, 2, 2],\n",
       " 6: [2, 3, 3, 3, 3, 3, 3, 3, 3, 3],\n",
       " 7: [3, 3, 3, 3, 3, 3, 3, 3, 3, 3],\n",
       " 8: [2, 2, 2, 2, 2, 2, 3, 3, 3, 2]}"
      ]
     },
     "execution_count": 146,
     "metadata": {},
     "output_type": "execute_result"
    }
   ],
   "source": [
    "to"
   ]
  },
  {
   "cell_type": "code",
   "execution_count": 82,
   "metadata": {},
   "outputs": [
    {
     "data": {
      "text/plain": [
       "4"
      ]
     },
     "execution_count": 82,
     "metadata": {},
     "output_type": "execute_result"
    }
   ],
   "source": [
    "9-6+1"
   ]
  },
  {
   "cell_type": "code",
   "execution_count": 150,
   "metadata": {},
   "outputs": [],
   "source": [
    "x = []\n",
    "y = []\n",
    "for i in to:\n",
    "    for j in range(4):\n",
    "        x.append(to[i][j:j+5])\n",
    "        y.append(to[i][j+5])"
   ]
  },
  {
   "cell_type": "code",
   "execution_count": 194,
   "metadata": {},
   "outputs": [
    {
     "name": "stdout",
     "output_type": "stream",
     "text": [
      "1\n",
      "2\n",
      "3\n",
      "4\n"
     ]
    }
   ],
   "source": [
    "for i in range(1,5):\n",
    "    print(i)"
   ]
  },
  {
   "cell_type": "code",
   "execution_count": 313,
   "metadata": {},
   "outputs": [],
   "source": [
    "x_train = []\n",
    "for x_tr in x:\n",
    "    dem_mau = Counter(x_tr)\n",
    "    x_dem = []\n",
    "    for i in range(1,5):\n",
    "        x_dem.append(dem_mau[i])\n",
    "    x_train.append(x_dem)"
   ]
  },
  {
   "cell_type": "code",
   "execution_count": 325,
   "metadata": {},
   "outputs": [],
   "source": [
    "x_train = []\n",
    "for x_tr in x:\n",
    "    x_dem = [0, 0, 0, 0]\n",
    "    for (i,x_tri) in enumerate(x_tr):\n",
    "        x_dem[x_tri-1]+=(1+i)\n",
    "    x_train.append(x_dem)  "
   ]
  },
  {
   "cell_type": "code",
   "execution_count": 326,
   "metadata": {},
   "outputs": [
    {
     "data": {
      "text/plain": [
       "[[0, 15, 0, 0],\n",
       " [0, 15, 0, 0],\n",
       " [0, 15, 0, 0],\n",
       " [0, 15, 0, 0],\n",
       " [0, 9, 6, 0],\n",
       " [0, 12, 3, 0],\n",
       " [0, 9, 6, 0],\n",
       " [0, 6, 9, 0],\n",
       " [0, 14, 1, 0],\n",
       " [0, 15, 0, 0],\n",
       " [5, 10, 0, 0],\n",
       " [9, 6, 0, 0],\n",
       " [0, 0, 15, 0],\n",
       " [0, 0, 15, 0],\n",
       " [0, 0, 15, 0],\n",
       " [0, 0, 15, 0],\n",
       " [0, 9, 6, 0],\n",
       " [0, 12, 3, 0],\n",
       " [0, 14, 1, 0],\n",
       " [0, 15, 0, 0],\n",
       " [0, 1, 14, 0],\n",
       " [0, 0, 15, 0],\n",
       " [0, 0, 15, 0],\n",
       " [0, 0, 15, 0],\n",
       " [0, 0, 15, 0],\n",
       " [0, 0, 15, 0],\n",
       " [0, 0, 15, 0],\n",
       " [0, 0, 15, 0],\n",
       " [0, 15, 0, 0],\n",
       " [0, 15, 0, 0],\n",
       " [0, 10, 5, 0],\n",
       " [0, 6, 9, 0]]"
      ]
     },
     "execution_count": 326,
     "metadata": {},
     "output_type": "execute_result"
    }
   ],
   "source": [
    "x_train"
   ]
  },
  {
   "cell_type": "code",
   "execution_count": 327,
   "metadata": {},
   "outputs": [],
   "source": [
    "def view_data(n):\n",
    "    print(x[n])\n",
    "    print(x_train[n])\n",
    "    print(y[n])"
   ]
  },
  {
   "cell_type": "code",
   "execution_count": 328,
   "metadata": {},
   "outputs": [],
   "source": [
    "from __future__ import print_function\n",
    "from sklearn.naive_bayes import MultinomialNB\n",
    "import numpy as np "
   ]
  },
  {
   "cell_type": "code",
   "execution_count": 329,
   "metadata": {},
   "outputs": [],
   "source": [
    "clf = MultinomialNB()"
   ]
  },
  {
   "cell_type": "code",
   "execution_count": 330,
   "metadata": {},
   "outputs": [
    {
     "data": {
      "text/plain": [
       "MultinomialNB()"
      ]
     },
     "execution_count": 330,
     "metadata": {},
     "output_type": "execute_result"
    }
   ],
   "source": [
    "clf.fit(x_train, y)"
   ]
  },
  {
   "cell_type": "code",
   "execution_count": 331,
   "metadata": {},
   "outputs": [
    {
     "name": "stdout",
     "output_type": "stream",
     "text": [
      "[3, 3, 2, 2, 2]\n",
      "[0, 12, 3, 0]\n",
      "3\n"
     ]
    }
   ],
   "source": [
    "view_data(5)"
   ]
  },
  {
   "cell_type": "code",
   "execution_count": 332,
   "metadata": {},
   "outputs": [],
   "source": [
    "d5 = np.array([x_train[14]])"
   ]
  },
  {
   "cell_type": "code",
   "execution_count": 333,
   "metadata": {},
   "outputs": [],
   "source": [
    "d5 = np.array([[0,9,6,0]])"
   ]
  },
  {
   "cell_type": "code",
   "execution_count": 334,
   "metadata": {},
   "outputs": [
    {
     "name": "stdout",
     "output_type": "stream",
     "text": [
      "Predicting class of d5: 2\n"
     ]
    }
   ],
   "source": [
    "print('Predicting class of d5:', str(clf.predict(d5)[0]))"
   ]
  },
  {
   "cell_type": "code",
   "execution_count": 335,
   "metadata": {},
   "outputs": [
    {
     "name": "stdout",
     "output_type": "stream",
     "text": [
      "Predicting class of d5: [4.85803665e-07 5.36209483e-01 4.63790031e-01]\n"
     ]
    }
   ],
   "source": [
    "print('Predicting class of d5:', str(clf.predict_proba(d5)[0]))"
   ]
  },
  {
   "cell_type": "code",
   "execution_count": 336,
   "metadata": {},
   "outputs": [
    {
     "data": {
      "text/plain": [
       "0.84375"
      ]
     },
     "execution_count": 336,
     "metadata": {},
     "output_type": "execute_result"
    }
   ],
   "source": [
    "clf.score(x_train,y)"
   ]
  },
  {
   "cell_type": "code",
   "execution_count": null,
   "metadata": {},
   "outputs": [],
   "source": [
    " "
   ]
  }
 ],
 "metadata": {
  "kernelspec": {
   "display_name": "Python 3",
   "language": "python",
   "name": "python3"
  },
  "language_info": {
   "codemirror_mode": {
    "name": "ipython",
    "version": 3
   },
   "file_extension": ".py",
   "mimetype": "text/x-python",
   "name": "python",
   "nbconvert_exporter": "python",
   "pygments_lexer": "ipython3",
   "version": "3.8.5"
  }
 },
 "nbformat": 4,
 "nbformat_minor": 4
}

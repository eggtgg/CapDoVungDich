{
 "cells": [
  {
   "cell_type": "code",
   "execution_count": 1,
   "metadata": {},
   "outputs": [],
   "source": [
    "from time import sleep\n",
    "from selenium import webdriver  # Import from seleniumwire\n",
    "from selenium.webdriver.common.keys import Keys\n",
    "from selenium.webdriver.support.ui import Select\n",
    "from bs4 import BeautifulSoup\n",
    "import os"
   ]
  },
  {
   "cell_type": "code",
   "execution_count": null,
   "metadata": {},
   "outputs": [],
   "source": [
    "os.chdir('data')"
   ]
  },
  {
   "cell_type": "code",
   "execution_count": 2,
   "metadata": {},
   "outputs": [
    {
     "name": "stderr",
     "output_type": "stream",
     "text": [
      "<ipython-input-2-152483320e37>:8: DeprecationWarning: find_element_by_* commands are deprecated. Please use find_element() instead\n",
      "  driver.find_element_by_name('txtUser').send_keys(\"eggtgg\")\n",
      "<ipython-input-2-152483320e37>:9: DeprecationWarning: find_element_by_* commands are deprecated. Please use find_element() instead\n",
      "  txt_pass = driver.find_element_by_name('txtPass')\n",
      "<ipython-input-2-152483320e37>:20: DeprecationWarning: find_element_by_* commands are deprecated. Please use find_element() instead\n",
      "  select = Select(driver.find_element_by_name('ctl06$DanhMucCapDoDich_TraCuu$drpTinhThanhPho'))\n"
     ]
    }
   ],
   "source": [
    "# Create a new instance of the Chrome driver\n",
    "driver = webdriver.Chrome()\n",
    "\n",
    "# Go to the Google home page\n",
    "driver.get('https://tcs.thuathienhue.gov.vn/')\n",
    "sleep(0.5)\n",
    "\n",
    "driver.find_element_by_name('txtUser').send_keys(\"eggtgg\")\n",
    "txt_pass = driver.find_element_by_name('txtPass')\n",
    "#9pabK7cKNf4@dcU\n",
    "txt_pass.send_keys('9pabK7cKNf4@dcU')\n",
    "sleep(0.5)\n",
    "\n",
    "txt_pass.send_keys(Keys.ENTER)\n",
    "sleep(1)\n",
    "\n",
    "driver.get('https://tcs.thuathienhue.gov.vn/tcs?id=9')\n",
    "sleep(0.5)\n",
    "\n",
    "select = Select(driver.find_element_by_name('ctl06$DanhMucCapDoDich_TraCuu$drpTinhThanhPho'))\n",
    "select.select_by_value('46')\n",
    "sleep(0.5)\n",
    "\n",
    "page_source = driver.page_source"
   ]
  },
  {
   "cell_type": "code",
   "execution_count": 3,
   "metadata": {},
   "outputs": [],
   "source": [
    "soup = BeautifulSoup(page_source, 'html.parser')"
   ]
  },
  {
   "cell_type": "code",
   "execution_count": 4,
   "metadata": {},
   "outputs": [],
   "source": [
    "links = soup.find_all('div',attrs={'class':\"dong-huyen\"})"
   ]
  },
  {
   "cell_type": "code",
   "execution_count": 5,
   "metadata": {},
   "outputs": [
    {
     "data": {
      "text/plain": [
       "'Thành phố Huế'"
      ]
     },
     "execution_count": 5,
     "metadata": {},
     "output_type": "execute_result"
    }
   ],
   "source": [
    "links[0].find('div', attrs={'class':\"cot-tenhuyen\"}).text"
   ]
  },
  {
   "cell_type": "code",
   "execution_count": 6,
   "metadata": {},
   "outputs": [
    {
     "data": {
      "text/plain": [
       "'Phường Hương An'"
      ]
     },
     "execution_count": 6,
     "metadata": {},
     "output_type": "execute_result"
    }
   ],
   "source": [
    "links[0].find_all('div',attrs={'class':'cot1-tenxa'})[0].text"
   ]
  },
  {
   "cell_type": "code",
   "execution_count": 7,
   "metadata": {},
   "outputs": [
    {
     "data": {
      "text/plain": [
       "'Tổ dân phố An Hoà'"
      ]
     },
     "execution_count": 7,
     "metadata": {},
     "output_type": "execute_result"
    }
   ],
   "source": [
    "links[0].find_all('div', attrs={'class':\"cot2-thon\"})[0].find_all('div')[0].text"
   ]
  },
  {
   "cell_type": "code",
   "execution_count": 8,
   "metadata": {},
   "outputs": [
    {
     "data": {
      "text/plain": [
       "'capdo1'"
      ]
     },
     "execution_count": 8,
     "metadata": {},
     "output_type": "execute_result"
    }
   ],
   "source": [
    "links[0].find_all('div', attrs={'class':\"cot2-thon\"})[0].find_all('div')[0].get('class')[0]"
   ]
  },
  {
   "cell_type": "code",
   "execution_count": 9,
   "metadata": {},
   "outputs": [],
   "source": [
    "huyen = []\n",
    "xa = []\n",
    "thon = []\n",
    "cap = []\n",
    "for link in links:\n",
    "    ten_huyen = link.find('div', attrs={'class':\"cot-tenhuyen\"}).text\n",
    "    cac_xa = link.find_all('div',attrs={'class':'cot1-tenxa'})\n",
    "    cac_thon_trong_xa = link.find_all('div', attrs={'class':\"cot2-thon\"})\n",
    "    for i in range(len(cac_xa)):\n",
    "        ten_xa = cac_xa[i].text\n",
    "        cac_thon = cac_thon_trong_xa[i].find_all('div')\n",
    "        for thon_i in cac_thon:\n",
    "            ten_thon = thon_i.text\n",
    "            cap_do = thon_i.get('class')[0]\n",
    "            \n",
    "            huyen.append(ten_huyen)\n",
    "            xa.append(ten_xa)\n",
    "            thon.append(ten_thon)\n",
    "            cap.append(int(cap_do[-1]))\n",
    "    "
   ]
  },
  {
   "cell_type": "code",
   "execution_count": 10,
   "metadata": {},
   "outputs": [],
   "source": [
    "import pandas as pd"
   ]
  },
  {
   "cell_type": "code",
   "execution_count": 11,
   "metadata": {},
   "outputs": [
    {
     "data": {
      "text/plain": [
       "<div class=\"capdo3\">Thôn Vân Cù-Nam Thanh</div>"
      ]
     },
     "execution_count": 11,
     "metadata": {},
     "output_type": "execute_result"
    }
   ],
   "source": [
    "thon_i"
   ]
  },
  {
   "cell_type": "code",
   "execution_count": 12,
   "metadata": {},
   "outputs": [
    {
     "data": {
      "text/plain": [
       "1107"
      ]
     },
     "execution_count": 12,
     "metadata": {},
     "output_type": "execute_result"
    }
   ],
   "source": [
    "len(huyen)"
   ]
  },
  {
   "cell_type": "code",
   "execution_count": 13,
   "metadata": {},
   "outputs": [
    {
     "data": {
      "text/plain": [
       "1107"
      ]
     },
     "execution_count": 13,
     "metadata": {},
     "output_type": "execute_result"
    }
   ],
   "source": [
    "len(xa)"
   ]
  },
  {
   "cell_type": "code",
   "execution_count": 14,
   "metadata": {},
   "outputs": [
    {
     "data": {
      "text/plain": [
       "1107"
      ]
     },
     "execution_count": 14,
     "metadata": {},
     "output_type": "execute_result"
    }
   ],
   "source": [
    "len(thon)"
   ]
  },
  {
   "cell_type": "code",
   "execution_count": 15,
   "metadata": {},
   "outputs": [
    {
     "data": {
      "text/plain": [
       "1107"
      ]
     },
     "execution_count": 15,
     "metadata": {},
     "output_type": "execute_result"
    }
   ],
   "source": [
    "len(cap)"
   ]
  },
  {
   "cell_type": "code",
   "execution_count": 16,
   "metadata": {},
   "outputs": [],
   "source": [
    "data = {'huyen':huyen, 'xa':xa, 'thon':thon, 'cap':cap}"
   ]
  },
  {
   "cell_type": "code",
   "execution_count": 17,
   "metadata": {},
   "outputs": [],
   "source": [
    "df = pd.DataFrame(data)"
   ]
  },
  {
   "cell_type": "code",
   "execution_count": 18,
   "metadata": {},
   "outputs": [
    {
     "data": {
      "text/html": [
       "<div>\n",
       "<style scoped>\n",
       "    .dataframe tbody tr th:only-of-type {\n",
       "        vertical-align: middle;\n",
       "    }\n",
       "\n",
       "    .dataframe tbody tr th {\n",
       "        vertical-align: top;\n",
       "    }\n",
       "\n",
       "    .dataframe thead th {\n",
       "        text-align: right;\n",
       "    }\n",
       "</style>\n",
       "<table border=\"1\" class=\"dataframe\">\n",
       "  <thead>\n",
       "    <tr style=\"text-align: right;\">\n",
       "      <th></th>\n",
       "      <th>huyen</th>\n",
       "      <th>xa</th>\n",
       "      <th>thon</th>\n",
       "      <th>cap</th>\n",
       "    </tr>\n",
       "  </thead>\n",
       "  <tbody>\n",
       "    <tr>\n",
       "      <th>0</th>\n",
       "      <td>Thành phố Huế</td>\n",
       "      <td>Phường Hương An</td>\n",
       "      <td>Tổ dân phố An Hoà</td>\n",
       "      <td>1</td>\n",
       "    </tr>\n",
       "    <tr>\n",
       "      <th>1</th>\n",
       "      <td>Thành phố Huế</td>\n",
       "      <td>Phường Hương An</td>\n",
       "      <td>Tổ dân phố An Vân</td>\n",
       "      <td>1</td>\n",
       "    </tr>\n",
       "    <tr>\n",
       "      <th>2</th>\n",
       "      <td>Thành phố Huế</td>\n",
       "      <td>Phường Hương An</td>\n",
       "      <td>Tổ dân phố An Lưu</td>\n",
       "      <td>2</td>\n",
       "    </tr>\n",
       "    <tr>\n",
       "      <th>3</th>\n",
       "      <td>Thành phố Huế</td>\n",
       "      <td>Phường Hương An</td>\n",
       "      <td>Tổ dân phố Bồn trì</td>\n",
       "      <td>2</td>\n",
       "    </tr>\n",
       "    <tr>\n",
       "      <th>4</th>\n",
       "      <td>Thành phố Huế</td>\n",
       "      <td>Phường Hương An</td>\n",
       "      <td>Tổ dân phố Cổ Bưu</td>\n",
       "      <td>2</td>\n",
       "    </tr>\n",
       "    <tr>\n",
       "      <th>...</th>\n",
       "      <td>...</td>\n",
       "      <td>...</td>\n",
       "      <td>...</td>\n",
       "      <td>...</td>\n",
       "    </tr>\n",
       "    <tr>\n",
       "      <th>1102</th>\n",
       "      <td>Thị xã Hương Trà</td>\n",
       "      <td>Xã Hương Toàn</td>\n",
       "      <td>Thôn Giáp Kiền</td>\n",
       "      <td>3</td>\n",
       "    </tr>\n",
       "    <tr>\n",
       "      <th>1103</th>\n",
       "      <td>Thị xã Hương Trà</td>\n",
       "      <td>Xã Hương Toàn</td>\n",
       "      <td>Thôn Giáp Tây</td>\n",
       "      <td>3</td>\n",
       "    </tr>\n",
       "    <tr>\n",
       "      <th>1104</th>\n",
       "      <td>Thị xã Hương Trà</td>\n",
       "      <td>Xã Hương Toàn</td>\n",
       "      <td>Thôn Giáp Thượng</td>\n",
       "      <td>3</td>\n",
       "    </tr>\n",
       "    <tr>\n",
       "      <th>1105</th>\n",
       "      <td>Thị xã Hương Trà</td>\n",
       "      <td>Xã Hương Toàn</td>\n",
       "      <td>Thôn Liễu Cốc Hạ</td>\n",
       "      <td>3</td>\n",
       "    </tr>\n",
       "    <tr>\n",
       "      <th>1106</th>\n",
       "      <td>Thị xã Hương Trà</td>\n",
       "      <td>Xã Hương Toàn</td>\n",
       "      <td>Thôn Vân Cù-Nam Thanh</td>\n",
       "      <td>3</td>\n",
       "    </tr>\n",
       "  </tbody>\n",
       "</table>\n",
       "<p>1107 rows × 4 columns</p>\n",
       "</div>"
      ],
      "text/plain": [
       "                 huyen               xa                   thon  cap\n",
       "0        Thành phố Huế  Phường Hương An      Tổ dân phố An Hoà    1\n",
       "1        Thành phố Huế  Phường Hương An      Tổ dân phố An Vân    1\n",
       "2        Thành phố Huế  Phường Hương An      Tổ dân phố An Lưu    2\n",
       "3        Thành phố Huế  Phường Hương An     Tổ dân phố Bồn trì    2\n",
       "4        Thành phố Huế  Phường Hương An      Tổ dân phố Cổ Bưu    2\n",
       "...                ...              ...                    ...  ...\n",
       "1102  Thị xã Hương Trà    Xã Hương Toàn         Thôn Giáp Kiền    3\n",
       "1103  Thị xã Hương Trà    Xã Hương Toàn          Thôn Giáp Tây    3\n",
       "1104  Thị xã Hương Trà    Xã Hương Toàn       Thôn Giáp Thượng    3\n",
       "1105  Thị xã Hương Trà    Xã Hương Toàn       Thôn Liễu Cốc Hạ    3\n",
       "1106  Thị xã Hương Trà    Xã Hương Toàn  Thôn Vân Cù-Nam Thanh    3\n",
       "\n",
       "[1107 rows x 4 columns]"
      ]
     },
     "execution_count": 18,
     "metadata": {},
     "output_type": "execute_result"
    }
   ],
   "source": [
    "df"
   ]
  },
  {
   "cell_type": "code",
   "execution_count": 19,
   "metadata": {},
   "outputs": [
    {
     "data": {
      "text/html": [
       "<div>\n",
       "<style scoped>\n",
       "    .dataframe tbody tr th:only-of-type {\n",
       "        vertical-align: middle;\n",
       "    }\n",
       "\n",
       "    .dataframe tbody tr th {\n",
       "        vertical-align: top;\n",
       "    }\n",
       "\n",
       "    .dataframe thead th {\n",
       "        text-align: right;\n",
       "    }\n",
       "</style>\n",
       "<table border=\"1\" class=\"dataframe\">\n",
       "  <thead>\n",
       "    <tr style=\"text-align: right;\">\n",
       "      <th></th>\n",
       "      <th>huyen</th>\n",
       "      <th>xa</th>\n",
       "      <th>thon</th>\n",
       "      <th>cap</th>\n",
       "    </tr>\n",
       "  </thead>\n",
       "  <tbody>\n",
       "    <tr>\n",
       "      <th>121</th>\n",
       "      <td>Thành phố Huế</td>\n",
       "      <td>Phường Hương Long</td>\n",
       "      <td>Tổ dân phố 5</td>\n",
       "      <td>2</td>\n",
       "    </tr>\n",
       "    <tr>\n",
       "      <th>122</th>\n",
       "      <td>Thành phố Huế</td>\n",
       "      <td>Phường Hương Long</td>\n",
       "      <td>Tổ dân phố 1</td>\n",
       "      <td>3</td>\n",
       "    </tr>\n",
       "    <tr>\n",
       "      <th>123</th>\n",
       "      <td>Thành phố Huế</td>\n",
       "      <td>Phường Hương Long</td>\n",
       "      <td>Tổ dân phố 2</td>\n",
       "      <td>3</td>\n",
       "    </tr>\n",
       "    <tr>\n",
       "      <th>124</th>\n",
       "      <td>Thành phố Huế</td>\n",
       "      <td>Phường Hương Long</td>\n",
       "      <td>Tổ dân phố 3</td>\n",
       "      <td>3</td>\n",
       "    </tr>\n",
       "    <tr>\n",
       "      <th>125</th>\n",
       "      <td>Thành phố Huế</td>\n",
       "      <td>Phường Hương Long</td>\n",
       "      <td>Tổ dân phố 4</td>\n",
       "      <td>3</td>\n",
       "    </tr>\n",
       "    <tr>\n",
       "      <th>126</th>\n",
       "      <td>Thành phố Huế</td>\n",
       "      <td>Phường Hương Long</td>\n",
       "      <td>Tổ dân phố 6</td>\n",
       "      <td>3</td>\n",
       "    </tr>\n",
       "    <tr>\n",
       "      <th>127</th>\n",
       "      <td>Thành phố Huế</td>\n",
       "      <td>Phường Hương Long</td>\n",
       "      <td>Tổ dân phố 7</td>\n",
       "      <td>3</td>\n",
       "    </tr>\n",
       "    <tr>\n",
       "      <th>128</th>\n",
       "      <td>Thành phố Huế</td>\n",
       "      <td>Phường Hương Long</td>\n",
       "      <td>Tổ dân phố 8</td>\n",
       "      <td>3</td>\n",
       "    </tr>\n",
       "  </tbody>\n",
       "</table>\n",
       "</div>"
      ],
      "text/plain": [
       "             huyen                 xa          thon  cap\n",
       "121  Thành phố Huế  Phường Hương Long  Tổ dân phố 5    2\n",
       "122  Thành phố Huế  Phường Hương Long  Tổ dân phố 1    3\n",
       "123  Thành phố Huế  Phường Hương Long  Tổ dân phố 2    3\n",
       "124  Thành phố Huế  Phường Hương Long  Tổ dân phố 3    3\n",
       "125  Thành phố Huế  Phường Hương Long  Tổ dân phố 4    3\n",
       "126  Thành phố Huế  Phường Hương Long  Tổ dân phố 6    3\n",
       "127  Thành phố Huế  Phường Hương Long  Tổ dân phố 7    3\n",
       "128  Thành phố Huế  Phường Hương Long  Tổ dân phố 8    3"
      ]
     },
     "execution_count": 19,
     "metadata": {},
     "output_type": "execute_result"
    }
   ],
   "source": [
    "df[df['xa'] == 'Phường Hương Long']"
   ]
  },
  {
   "cell_type": "code",
   "execution_count": null,
   "metadata": {},
   "outputs": [],
   "source": []
  },
  {
   "cell_type": "code",
   "execution_count": 20,
   "metadata": {},
   "outputs": [],
   "source": [
    "export_csv = df.to_csv ('ban_mau_1_9_21.csv', index = None, header=True, encoding='utf-8')"
   ]
  },
  {
   "cell_type": "code",
   "execution_count": 23,
   "metadata": {},
   "outputs": [],
   "source": [
    "ten_sv = ['Minh Tri', 'Nhat Minh', 'Van Thang', 'Minh']\n",
    "huyen_sv = ['Thành phố Huế', 'Thành phố Huế', 'Thành phố Huế', 'Thành phố Huế']\n",
    "xa_sv = ['Phường Hương Long', 'Phường Vĩnh Ninh', 'Phường Kim Long', 'Phường Hương Long']\n",
    "thon_sv = ['Tổ dân phố 4','Tổ dân phố 2','Tổ dân phố 8', 'Tổ dân phố 4']"
   ]
  },
  {
   "cell_type": "code",
   "execution_count": 24,
   "metadata": {},
   "outputs": [],
   "source": [
    "sinh_vien = {\n",
    "    'ten': ten_sv,\n",
    "    'huyen': huyen_sv,\n",
    "    'xa': xa_sv,\n",
    "    'thon': thon_sv\n",
    "}"
   ]
  },
  {
   "cell_type": "code",
   "execution_count": 25,
   "metadata": {},
   "outputs": [],
   "source": [
    "df_sv = pd.DataFrame(sinh_vien)"
   ]
  },
  {
   "cell_type": "code",
   "execution_count": 26,
   "metadata": {},
   "outputs": [
    {
     "data": {
      "text/html": [
       "<div>\n",
       "<style scoped>\n",
       "    .dataframe tbody tr th:only-of-type {\n",
       "        vertical-align: middle;\n",
       "    }\n",
       "\n",
       "    .dataframe tbody tr th {\n",
       "        vertical-align: top;\n",
       "    }\n",
       "\n",
       "    .dataframe thead th {\n",
       "        text-align: right;\n",
       "    }\n",
       "</style>\n",
       "<table border=\"1\" class=\"dataframe\">\n",
       "  <thead>\n",
       "    <tr style=\"text-align: right;\">\n",
       "      <th></th>\n",
       "      <th>ten</th>\n",
       "      <th>huyen</th>\n",
       "      <th>xa</th>\n",
       "      <th>thon</th>\n",
       "    </tr>\n",
       "  </thead>\n",
       "  <tbody>\n",
       "    <tr>\n",
       "      <th>0</th>\n",
       "      <td>Minh Tri</td>\n",
       "      <td>Thành phố Huế</td>\n",
       "      <td>Phường Hương Long</td>\n",
       "      <td>Tổ dân phố 4</td>\n",
       "    </tr>\n",
       "    <tr>\n",
       "      <th>1</th>\n",
       "      <td>Nhat Minh</td>\n",
       "      <td>Thành phố Huế</td>\n",
       "      <td>Phường Vĩnh Ninh</td>\n",
       "      <td>Tổ dân phố 2</td>\n",
       "    </tr>\n",
       "    <tr>\n",
       "      <th>2</th>\n",
       "      <td>Van Thang</td>\n",
       "      <td>Thành phố Huế</td>\n",
       "      <td>Phường Kim Long</td>\n",
       "      <td>Tổ dân phố 8</td>\n",
       "    </tr>\n",
       "    <tr>\n",
       "      <th>3</th>\n",
       "      <td>Minh</td>\n",
       "      <td>Thành phố Huế</td>\n",
       "      <td>Phường Hương Long</td>\n",
       "      <td>Tổ dân phố 4</td>\n",
       "    </tr>\n",
       "  </tbody>\n",
       "</table>\n",
       "</div>"
      ],
      "text/plain": [
       "         ten          huyen                 xa           thon\n",
       "0   Minh Tri  Thành phố Huế  Phường Hương Long   Tổ dân phố 4\n",
       "1  Nhat Minh  Thành phố Huế   Phường Vĩnh Ninh   Tổ dân phố 2\n",
       "2  Van Thang  Thành phố Huế    Phường Kim Long  Tổ dân phố 8\n",
       "3       Minh  Thành phố Huế  Phường Hương Long   Tổ dân phố 4"
      ]
     },
     "execution_count": 26,
     "metadata": {},
     "output_type": "execute_result"
    }
   ],
   "source": [
    "df_sv"
   ]
  },
  {
   "cell_type": "code",
   "execution_count": 27,
   "metadata": {},
   "outputs": [],
   "source": [
    "result = pd.merge(df_sv, df, on=[\"huyen\", \"xa\", \"thon\"])"
   ]
  },
  {
   "cell_type": "code",
   "execution_count": 28,
   "metadata": {},
   "outputs": [
    {
     "data": {
      "text/html": [
       "<div>\n",
       "<style scoped>\n",
       "    .dataframe tbody tr th:only-of-type {\n",
       "        vertical-align: middle;\n",
       "    }\n",
       "\n",
       "    .dataframe tbody tr th {\n",
       "        vertical-align: top;\n",
       "    }\n",
       "\n",
       "    .dataframe thead th {\n",
       "        text-align: right;\n",
       "    }\n",
       "</style>\n",
       "<table border=\"1\" class=\"dataframe\">\n",
       "  <thead>\n",
       "    <tr style=\"text-align: right;\">\n",
       "      <th></th>\n",
       "      <th>ten</th>\n",
       "      <th>huyen</th>\n",
       "      <th>xa</th>\n",
       "      <th>thon</th>\n",
       "      <th>cap</th>\n",
       "    </tr>\n",
       "  </thead>\n",
       "  <tbody>\n",
       "    <tr>\n",
       "      <th>0</th>\n",
       "      <td>Minh Tri</td>\n",
       "      <td>Thành phố Huế</td>\n",
       "      <td>Phường Hương Long</td>\n",
       "      <td>Tổ dân phố 4</td>\n",
       "      <td>2</td>\n",
       "    </tr>\n",
       "    <tr>\n",
       "      <th>1</th>\n",
       "      <td>Minh</td>\n",
       "      <td>Thành phố Huế</td>\n",
       "      <td>Phường Hương Long</td>\n",
       "      <td>Tổ dân phố 4</td>\n",
       "      <td>2</td>\n",
       "    </tr>\n",
       "    <tr>\n",
       "      <th>2</th>\n",
       "      <td>Nhat Minh</td>\n",
       "      <td>Thành phố Huế</td>\n",
       "      <td>Phường Vĩnh Ninh</td>\n",
       "      <td>Tổ dân phố 2</td>\n",
       "      <td>3</td>\n",
       "    </tr>\n",
       "    <tr>\n",
       "      <th>3</th>\n",
       "      <td>Van Thang</td>\n",
       "      <td>Thành phố Huế</td>\n",
       "      <td>Phường Kim Long</td>\n",
       "      <td>Tổ dân phố 8</td>\n",
       "      <td>3</td>\n",
       "    </tr>\n",
       "  </tbody>\n",
       "</table>\n",
       "</div>"
      ],
      "text/plain": [
       "         ten          huyen                 xa           thon  cap\n",
       "0   Minh Tri  Thành phố Huế  Phường Hương Long   Tổ dân phố 4    2\n",
       "1       Minh  Thành phố Huế  Phường Hương Long   Tổ dân phố 4    2\n",
       "2  Nhat Minh  Thành phố Huế   Phường Vĩnh Ninh   Tổ dân phố 2    3\n",
       "3  Van Thang  Thành phố Huế    Phường Kim Long  Tổ dân phố 8    3"
      ]
     },
     "execution_count": 28,
     "metadata": {},
     "output_type": "execute_result"
    }
   ],
   "source": [
    "result"
   ]
  },
  {
   "cell_type": "code",
   "execution_count": null,
   "metadata": {},
   "outputs": [],
   "source": []
  },
  {
   "cell_type": "code",
   "execution_count": null,
   "metadata": {},
   "outputs": [],
   "source": []
  }
 ],
 "metadata": {
  "kernelspec": {
   "display_name": "Python 3",
   "language": "python",
   "name": "python3"
  },
  "language_info": {
   "codemirror_mode": {
    "name": "ipython",
    "version": 3
   },
   "file_extension": ".py",
   "mimetype": "text/x-python",
   "name": "python",
   "nbconvert_exporter": "python",
   "pygments_lexer": "ipython3",
   "version": "3.8.5"
  }
 },
 "nbformat": 4,
 "nbformat_minor": 4
}
